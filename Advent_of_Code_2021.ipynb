{
  "nbformat": 4,
  "nbformat_minor": 0,
  "metadata": {
    "colab": {
      "name": "Advent of Code 2021",
      "provenance": []
    },
    "kernelspec": {
      "name": "python3",
      "display_name": "Python 3"
    },
    "language_info": {
      "name": "python"
    }
  },
  "cells": [
    {
      "cell_type": "code",
      "execution_count": 2,
      "metadata": {
        "colab": {
          "base_uri": "https://localhost:8080/"
        },
        "id": "0ye3DmwSPYTA",
        "outputId": "d4eb52b2-4dd0-4201-fd95-f1f276e770f3"
      },
      "outputs": [
        {
          "output_type": "stream",
          "name": "stdout",
          "text": [
            "Drive already mounted at /content/drive; to attempt to forcibly remount, call drive.mount(\"/content/drive\", force_remount=True).\n",
            "1564\n",
            "1611\n"
          ]
        }
      ],
      "source": [
        "# Day 1\n",
        "\n",
        "# Get depth list\n",
        "from google.colab import drive\n",
        "drive.mount('/content/drive')\n",
        "\n",
        "depths = []\n",
        "with open('drive/MyDrive/AdventOfCode2021/depthInput', 'r') as f:\n",
        "  for line in f:\n",
        "    depths.append(int(line))\n",
        "\n",
        "# Count\n",
        "c = 0\n",
        "for i in range(1,len(depths)):\n",
        "  if depths[i] > depths[i-1]:\n",
        "    c += 1\n",
        "  \n",
        "print(c)\n",
        "\n",
        "# Part 2: 3-sliding window\n",
        "lastSum = None\n",
        "numGreater = 0\n",
        "for i in range(2,len(depths)):\n",
        "    # Get this sum\n",
        "    currSum = depths[i-2] + depths[i-1] + depths[i]\n",
        "\n",
        "    # Compare sum\n",
        "    if lastSum is not None:\n",
        "      if currSum > lastSum:\n",
        "        numGreater += 1\n",
        "    lastSum = currSum\n",
        "print(numGreater)"
      ]
    },
    {
      "cell_type": "markdown",
      "source": [
        ""
      ],
      "metadata": {
        "id": "AzmYpiOdShM0"
      }
    }
  ]
}